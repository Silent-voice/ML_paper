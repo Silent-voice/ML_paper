{
 "cells": [
  {
   "cell_type": "code",
   "execution_count": 46,
   "metadata": {},
   "outputs": [],
   "source": [
    "recipe_string = open('/Users/sijia/Downloads/pcl2-2020-exam-dist-v1.0/task1/recipes/1.txt').read()"
   ]
  },
  {
   "cell_type": "code",
   "execution_count": 47,
   "metadata": {},
   "outputs": [
    {
     "name": "stdout",
     "output_type": "stream",
     "text": [
      "\n",
      "HONEY-ROASTED CARROTS\n",
      "\n",
      "(Carote Arrostite Al Miele)\n",
      "\n",
      "3 servings\n",
      "\n",
      "Preparation time: 40 minutes\n",
      "\n",
      "*\t6\t\tcarrots\n",
      "*\t2\ttbsp\tbutter\n",
      "*\t2\ttbsp\thoney\n",
      "*\t1\tpinches\tsalt\n",
      "*\t1\tpinches\tpepper\n",
      "\n",
      "Preheat oven to 200ºC. \n",
      "\n",
      "In a medium casserole dish, evenly coat the carrots\n",
      "in butter, honey, salt, and pepper.\n",
      "\n",
      "Bake for 25-30 minutes.\n",
      "\n",
      "\n",
      "\n"
     ]
    }
   ],
   "source": [
    "print(recipe_string)"
   ]
  },
  {
   "cell_type": "code",
   "execution_count": 48,
   "metadata": {},
   "outputs": [
    {
     "name": "stdout",
     "output_type": "stream",
     "text": [
      "['', 'HONEY-ROASTED CARROTS', '', '(Carote Arrostite Al Miele)', '', '3 servings', '', 'Preparation time: 40 minutes', '', '*\\t6\\t\\tcarrots', '*\\t2\\ttbsp\\tbutter', '*\\t2\\ttbsp\\thoney', '*\\t1\\tpinches\\tsalt', '*\\t1\\tpinches\\tpepper', '', 'Preheat oven to 200ºC. ', '', 'In a medium casserole dish, evenly coat the carrots', 'in butter, honey, salt, and pepper.', '', 'Bake for 25-30 minutes.', '', '', '']\n"
     ]
    }
   ],
   "source": [
    "lines = recipe_string.split('\\n')\n",
    "print(lines)"
   ]
  },
  {
   "cell_type": "code",
   "execution_count": 31,
   "metadata": {},
   "outputs": [
    {
     "name": "stdout",
     "output_type": "stream",
     "text": [
      "HONEY-ROASTED CARROTS (Carote Arrostite Al Miele) 3\n"
     ]
    }
   ],
   "source": [
    "recipe_name = lines[1].strip()\n",
    "italien_recipe_name = lines[3].strip()\n",
    "serving_size = int(lines[5].strip().split(' ')[0])\n",
    "\n",
    "print(recipe_name, italien_recipe_name, serving_size)"
   ]
  },
  {
   "cell_type": "code",
   "execution_count": 5,
   "metadata": {},
   "outputs": [
    {
     "name": "stdout",
     "output_type": "stream",
     "text": [
      "Preparation\n",
      "time:\n",
      "40 minutes\n"
     ]
    }
   ],
   "source": [
    "_, num, unit = lines[7].strip().split(' ',2)\n",
    "print(_)\n",
    "print(num)\n",
    "print(unit)"
   ]
  },
  {
   "cell_type": "code",
   "execution_count": 6,
   "metadata": {},
   "outputs": [
    {
     "name": "stdout",
     "output_type": "stream",
     "text": [
      "Preparation time:\n",
      "40\n",
      "minutes\n"
     ]
    }
   ],
   "source": [
    "_, num, unit = lines[7].strip().rsplit(' ',2)\n",
    "print(_)\n",
    "print(num)\n",
    "print(unit)"
   ]
  },
  {
   "cell_type": "code",
   "execution_count": 7,
   "metadata": {},
   "outputs": [],
   "source": [
    "if unit == \"hours\":\n",
    "    preparation_time = float(num) * 60\n",
    "else:\n",
    "    preparation_time = float(num) * 1"
   ]
  },
  {
   "cell_type": "code",
   "execution_count": 18,
   "metadata": {},
   "outputs": [
    {
     "name": "stdout",
     "output_type": "stream",
     "text": [
      "{'carrots': {'': 6.0}, 'butter': {'tbsp': 2.0}, 'honey': {'tbsp': 2.0}, 'salt': {'pinches': 1.0}, 'pepper': {'pinches': 1.0}}\n"
     ]
    }
   ],
   "source": [
    "ingredients = {}\n",
    "i = 9\n",
    "while lines[i].startswith('*'):\n",
    "    num, unit, name = lines[i].strip('*').strip().split('\\t')\n",
    "    ingredients[name] = {unit: float(num)}\n",
    "    i += 1\n",
    "    \n",
    "print(ingredients)"
   ]
  },
  {
   "cell_type": "code",
   "execution_count": 16,
   "metadata": {},
   "outputs": [
    {
     "name": "stdout",
     "output_type": "stream",
     "text": [
      "[' Preheat oven to 200ºC.', ' In a medium casserole dish, evenly coat the carrots in butter, honey, salt, and pepper.', ' Bake for 25-30 minutes.']\n"
     ]
    }
   ],
   "source": [
    "instructions = []\n",
    "i += 1\n",
    "\n",
    "while i < len(lines):\n",
    "    instruction = ''\n",
    "    while lines[i].strip() != '' and i < len(lines):\n",
    "        instruction += ' ' + lines[i].strip()\n",
    "        i += 1\n",
    "        \n",
    "    if instruction != '':\n",
    "        instructions.append(instruction)\n",
    "    i += 1\n",
    "    \n",
    "print(instructions)"
   ]
  },
  {
   "cell_type": "code",
   "execution_count": 19,
   "metadata": {},
   "outputs": [
    {
     "name": "stdout",
     "output_type": "stream",
     "text": [
      "['Preheat oven to 200ºC. ', 'In a medium casserole dish, evenly coat the carrots', 'Bake for 25-30 minutes.']\n"
     ]
    }
   ],
   "source": [
    "instructions_new = []\n",
    "i += 1\n",
    "while i < len(lines):\n",
    "    if lines[i].strip() != '':\n",
    "        instructions_new.append(lines[i])\n",
    "        i += 1\n",
    "    i += 1\n",
    "print(instructions_new)"
   ]
  },
  {
   "cell_type": "code",
   "execution_count": 23,
   "metadata": {},
   "outputs": [
    {
     "data": {
      "text/plain": [
       "' Preheat oven to 200ºC.'"
      ]
     },
     "execution_count": 23,
     "metadata": {},
     "output_type": "execute_result"
    }
   ],
   "source": [
    "next(iter(instructions))"
   ]
  },
  {
   "cell_type": "markdown",
   "metadata": {},
   "source": [
    "为什么 intructions 中需要多加空格？ \n",
    "instructions_new 中为什么会少读取半行？"
   ]
  },
  {
   "cell_type": "code",
   "execution_count": 25,
   "metadata": {},
   "outputs": [
    {
     "name": "stdout",
     "output_type": "stream",
     "text": [
      "5\n"
     ]
    }
   ],
   "source": [
    "print(len(ingredients))"
   ]
  },
  {
   "cell_type": "markdown",
   "metadata": {},
   "source": [
    "def __lt__(self, other: Union[str, 'Recipe']) -> bool:  \n",
    "这里 other 是 str + Recipe？看不懂..."
   ]
  },
  {
   "cell_type": "markdown",
   "metadata": {},
   "source": [
    "print(type(Recipe(recipe_string)))  \n",
    "<class '__main__.Recipe'>  \n",
    "这个 type 就是 Recipe?"
   ]
  },
  {
   "cell_type": "code",
   "execution_count": 49,
   "metadata": {},
   "outputs": [],
   "source": [
    "def set_serving_size(serving_size_new):\n",
    "    serving_size = int(lines[5].strip().split(' ')[0])\n",
    "    _, num, unit = lines[7].strip().rsplit(' ',2)\n",
    "    if unit == \"hours\":\n",
    "        preparation_time = float(num) * 60\n",
    "    else:\n",
    "        preparation_time = float(num) * 1\n",
    "    \n",
    "    t = float(serving_size_new) / serving_size\n",
    "    serving_size = serving_size_new\n",
    "    for name in ingredients:\n",
    "        for unit in ingredients[name]:\n",
    "            ingredients[name][unit] = ingredients[name][unit] * t\n",
    "    preparation_time = preparation_time * t\n",
    "    return ingredients, preparation_time"
   ]
  },
  {
   "cell_type": "code",
   "execution_count": 50,
   "metadata": {},
   "outputs": [
    {
     "name": "stdout",
     "output_type": "stream",
     "text": [
      "({'carrots': {'': 60000000.0}, 'butter': {'tbsp': 20000000.0}, 'honey': {'tbsp': 20000000.0}, 'salt': {'pinches': 10000000.0}, 'pepper': {'pinches': 10000000.0}}, 400.0)\n"
     ]
    }
   ],
   "source": [
    "print(set_serving_size(30))"
   ]
  },
  {
   "cell_type": "markdown",
   "metadata": {},
   "source": [
    "这个 def funtion 的问题在哪里？为啥它每运行一次，就多两个零......"
   ]
  },
  {
   "cell_type": "markdown",
   "metadata": {},
   "source": [
    "strinfo = re.compile('http(s)?://[^ ]*')  \n",
    "strinfo = re.compile(r'http(s)?://[^ ]*')  \n",
    "r\"http(s)?\\://\\S+\" \\S 所有非空格字符  \n",
    "需不需要加 r ？"
   ]
  },
  {
   "cell_type": "markdown",
   "metadata": {},
   "source": [
    "self.text = strinfo.sub('01234567890123456789012', self.text)  \n",
    "这个好像不行  \n",
    "  \n",
    "Traceback (most recent call last):\n",
    "  File \"/Users/sijia/Downloads/pcl2-2020-exam-dist-v1.0/task2/test_tweet.py\", line 30, in test_url_with_text\n",
    "    self.assertEqual(26, len(Tweet(\"Hi http://test.co\")))\n",
    "TypeError: 'NoneType' object cannot be interpreted as an integer"
   ]
  },
  {
   "cell_type": "markdown",
   "metadata": {},
   "source": [
    "1) @mention  \n",
    "2) @mention1 @mention2 Happy Birthday! \n",
    "第二种情况 char_count 应该也是 15。"
   ]
  },
  {
   "cell_type": "markdown",
   "metadata": {},
   "source": [
    "U+aF44D  U+200D ... 是怎么换算成数值的？"
   ]
  },
  {
   "cell_type": "markdown",
   "metadata": {},
   "source": [
    "#### Task 4"
   ]
  },
  {
   "cell_type": "markdown",
   "metadata": {},
   "source": [
    "from zviery import natural_date 这种方式找不到 zviery 是因为在这个文件夹里面？  \n",
    "import natural_date 改成这样可以 但还是出错了... "
   ]
  },
  {
   "cell_type": "code",
   "execution_count": null,
   "metadata": {},
   "outputs": [],
   "source": []
  }
 ],
 "metadata": {
  "kernelspec": {
   "display_name": "Python 3",
   "language": "python",
   "name": "python3"
  },
  "language_info": {
   "codemirror_mode": {
    "name": "ipython",
    "version": 3
   },
   "file_extension": ".py",
   "mimetype": "text/x-python",
   "name": "python",
   "nbconvert_exporter": "python",
   "pygments_lexer": "ipython3",
   "version": "3.7.6"
  }
 },
 "nbformat": 4,
 "nbformat_minor": 2
}
